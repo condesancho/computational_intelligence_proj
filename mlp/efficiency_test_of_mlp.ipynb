{
 "cells": [
  {
   "cell_type": "markdown",
   "metadata": {},
   "source": [
    "# Efficiency test of a Multi-layer Perceptron"
   ]
  },
  {
   "cell_type": "code",
   "execution_count": 7,
   "metadata": {},
   "outputs": [],
   "source": [
    "import os\n",
    "os.environ['TF_CPP_MIN_LOG_LEVEL'] = '3' \n",
    "\n",
    "import tensorflow as tf\n",
    "from tensorflow import keras\n",
    "\n",
    "from keras.datasets import mnist\n",
    "from keras import Model, layers\n",
    "\n",
    "import numpy as np\n",
    "\n",
    "import time\n",
    "\n",
    "import matplotlib.pyplot as plt\n",
    "%matplotlib inline"
   ]
  },
  {
   "cell_type": "code",
   "execution_count": 8,
   "metadata": {},
   "outputs": [],
   "source": [
    "# MNIST dataset parameters\n",
    "num_classes = 10 # total classes (0-9 digits)\n",
    "num_features = 784 # data features (img shape: 28*28)\n",
    "num_epochs = 100 # no. epochs\n",
    "\n",
    "\n",
    "# Network parameters\n",
    "n_hidden_1 = 128 # 1st layer's no. neurons\n",
    "n_hidden_2 = 256 # 2nd layer's no. neurons"
   ]
  },
  {
   "cell_type": "code",
   "execution_count": 9,
   "metadata": {},
   "outputs": [],
   "source": [
    "# Function that plots figures based on the history of the training\n",
    "def loss_acc_plot(history):\n",
    "    plt.figure()\n",
    "    plt.plot(history.history['accuracy'], label = 'Train')\n",
    "    plt.plot(history.history['val_accuracy'], label = 'Validation')\n",
    "    plt.legend()\n",
    "    plt.title('Accuracy of train and validation sets')\n",
    "\n",
    "    plt.figure()\n",
    "    plt.plot(history.history['loss'], label='Train')\n",
    "    plt.plot(history.history['val_loss'], label='Validation')\n",
    "    plt.legend()\n",
    "    plt.title('Loss of train and validation sets')\n",
    "\n",
    "    plt.show()"
   ]
  },
  {
   "cell_type": "markdown",
   "metadata": {},
   "source": [
    "## Preprocessing of data"
   ]
  },
  {
   "cell_type": "code",
   "execution_count": 10,
   "metadata": {},
   "outputs": [],
   "source": [
    "# Preparation of MNIST data\n",
    "(x_train, y_train), (x_test, y_test) = mnist.load_data()\n",
    "\n",
    "# Convert to float32.\n",
    "x_train, x_test = np.array(x_train, np.float32), np.array(x_test, np.float32)\n",
    "\n",
    "# Flatten images to 1-D vector of 784 features (28*28).\n",
    "x_train, x_test = x_train.reshape([-1, num_features]), x_test.reshape([-1, num_features])\n",
    "\n",
    "# Normalize images value from [0, 255] to [0, 1].\n",
    "x_train, x_test = x_train / 255., x_test / 255."
   ]
  },
  {
   "cell_type": "markdown",
   "metadata": {},
   "source": [
    "## 1st Model"
   ]
  },
  {
   "cell_type": "code",
   "execution_count": null,
   "metadata": {},
   "outputs": [],
   "source": [
    "model_1 = keras.Sequential([\n",
    "    keras.layers.Flatten(input_shape=(28 * 28, )),\n",
    "    keras.layers.Dense(n_hidden_1, activation='relu'),\n",
    "    keras.layers.Dense(n_hidden_2, activation='relu'),\n",
    "    keras.layers.Dense(10)\n",
    "])\n",
    "\n",
    "model_1.summary()"
   ]
  },
  {
   "cell_type": "markdown",
   "metadata": {},
   "source": [
    "Batch size = 1"
   ]
  },
  {
   "cell_type": "code",
   "execution_count": null,
   "metadata": {},
   "outputs": [],
   "source": [
    "# Compile model\n",
    "model_1.compile(loss=tf.keras.losses.SparseCategoricalCrossentropy(from_logits = True), metrics=['accuracy'])\n",
    "\n",
    "st = time.time()\n",
    "\n",
    "history = model_1.fit(x_train, y_train, batch_size=1, epochs=num_epochs, validation_split=0.2)\n",
    "\n",
    "end = time.time()\n",
    "\n",
    "# Plot the diagrams\n",
    "loss_acc_plot(history)\n",
    "\n",
    "print('Training time:', end-st, 'seconds')"
   ]
  },
  {
   "cell_type": "markdown",
   "metadata": {},
   "source": [
    "Batch size = 256"
   ]
  },
  {
   "cell_type": "code",
   "execution_count": null,
   "metadata": {},
   "outputs": [],
   "source": [
    "# Compile model\n",
    "model_1.compile(loss=tf.keras.losses.SparseCategoricalCrossentropy(from_logits = True), metrics=['accuracy'])\n",
    "\n",
    "st = time.time()\n",
    "\n",
    "history = model_1.fit(x_train, y_train, batch_size=256, epochs=num_epochs, validation_split=0.2)\n",
    "\n",
    "end = time.time()\n",
    "\n",
    "# Plot the diagrams\n",
    "loss_acc_plot(history)\n",
    "\n",
    "print('Training time:', end-st, 'seconds')"
   ]
  },
  {
   "cell_type": "markdown",
   "metadata": {},
   "source": [
    "Batch size = Train size"
   ]
  },
  {
   "cell_type": "code",
   "execution_count": null,
   "metadata": {},
   "outputs": [],
   "source": [
    "# Compile model\n",
    "model_1.compile(loss=tf.keras.losses.SparseCategoricalCrossentropy(from_logits = True), metrics=['accuracy'])\n",
    "\n",
    "st = time.time()\n",
    "\n",
    "n_train = int(np.shape(y_train)[0]*0.8)\n",
    "history = model_1.fit(x_train, y_train, batch_size=n_train, epochs=num_epochs, validation_split=0.2)\n",
    "\n",
    "end = time.time()\n",
    "\n",
    "# Plot the diagrams\n",
    "loss_acc_plot(history)\n",
    "\n",
    "print('Training time:', end-st, 'seconds')"
   ]
  },
  {
   "cell_type": "markdown",
   "metadata": {},
   "source": [
    "RMSprop optimizer\n",
    "Learning rate = 0.001\n",
    "Rho = 0.01"
   ]
  },
  {
   "cell_type": "code",
   "execution_count": null,
   "metadata": {},
   "outputs": [],
   "source": [
    "# Set optimizer\n",
    "opt = keras.optimizers.RMSprop(learning_rate=0.001, rho=0.01)\n",
    "\n",
    "# Compile model\n",
    "model_1.compile(optimizer=opt, loss=tf.keras.losses.SparseCategoricalCrossentropy(from_logits = True), metrics=['accuracy'])\n",
    "\n",
    "st = time.time()\n",
    "\n",
    "history = model_1.fit(x_train, y_train, batch_size=256, epochs=num_epochs, validation_split=0.2)\n",
    "\n",
    "end = time.time()\n",
    "\n",
    "# Plot the diagrams\n",
    "loss_acc_plot(history)\n",
    "\n",
    "print('Training time:', end-st, 'seconds')"
   ]
  },
  {
   "cell_type": "markdown",
   "metadata": {},
   "source": [
    "RMSprop optimizer\n",
    "Learning rate = 0.001\n",
    "Rho = 0.99"
   ]
  },
  {
   "cell_type": "code",
   "execution_count": null,
   "metadata": {},
   "outputs": [],
   "source": [
    "# Set optimizer\n",
    "opt = keras.optimizers.RMSprop(learning_rate=0.001, rho=0.99)\n",
    "\n",
    "# Compile model\n",
    "model_1.compile(optimizer=opt, loss=tf.keras.losses.SparseCategoricalCrossentropy(from_logits = True), metrics=['accuracy'])\n",
    "\n",
    "st = time.time()\n",
    "\n",
    "history = model_1.fit(x_train, y_train, batch_size=256, epochs=num_epochs, validation_split=0.2)\n",
    "\n",
    "end = time.time()\n",
    "\n",
    "# Plot the diagrams\n",
    "loss_acc_plot(history)\n",
    "\n",
    "print('Training time:', end-st, 'seconds')"
   ]
  },
  {
   "cell_type": "markdown",
   "metadata": {},
   "source": [
    "## 2nd Model with initialization of weights"
   ]
  },
  {
   "cell_type": "code",
   "execution_count": null,
   "metadata": {},
   "outputs": [],
   "source": [
    "# Set weight initializer\n",
    "initial = keras.initializers.RandomNormal(mean=10)\n",
    "\n",
    "model_2 = keras.Sequential([\n",
    "    keras.layers.Flatten(input_shape=(28 * 28, )),\n",
    "    keras.layers.Dense(n_hidden_1, activation='relu', kernel_initializer=initial),\n",
    "    keras.layers.Dense(n_hidden_2, activation='relu', kernel_initializer=initial),\n",
    "    keras.layers.Dense(10, kernel_initializer=initial)\n",
    "])\n",
    "\n",
    "model_2.summary()"
   ]
  },
  {
   "cell_type": "code",
   "execution_count": null,
   "metadata": {},
   "outputs": [],
   "source": [
    "# Set optimizer\n",
    "opt = keras.optimizers.SGD(learning_rate=0.01)\n",
    "\n",
    "# Compile model\n",
    "model_2.compile(optimizer=opt, loss=tf.keras.losses.SparseCategoricalCrossentropy(from_logits = True),metrics=['accuracy'])\n",
    "\n",
    "st = time.time()\n",
    "\n",
    "history = model_2.fit(x_train, y_train, batch_size=256, epochs=num_epochs, validation_split=0.2)\n",
    "\n",
    "end = time.time()\n",
    "\n",
    "# Plot the diagrams\n",
    "loss_acc_plot(history)\n",
    "\n",
    "print('Training time:', end-st, 'seconds')"
   ]
  },
  {
   "cell_type": "markdown",
   "metadata": {},
   "source": [
    "## 3rd Model with L2 regularization"
   ]
  },
  {
   "cell_type": "code",
   "execution_count": null,
   "metadata": {},
   "outputs": [],
   "source": [
    "# Set weight initializer\n",
    "initial = keras.initializers.RandomNormal(mean=10)\n",
    "\n",
    "# Regularization param\n",
    "for a in [0.1, 0.01, 0.001]:\n",
    "\n",
    "    # Set regularizer\n",
    "    reg = keras.regularizers.L2(a)\n",
    "\n",
    "    model_3 = keras.Sequential([\n",
    "        keras.layers.Flatten(input_shape=(28 * 28, )),\n",
    "        keras.layers.Dense(n_hidden_1, activation='relu', kernel_initializer=initial, kernel_regularizer=reg),\n",
    "        keras.layers.Dense(n_hidden_2, activation='relu', kernel_initializer=initial, kernel_regularizer=reg),\n",
    "        keras.layers.Dense(10, kernel_initializer=initial, kernel_regularizer=reg)\n",
    "    ])\n",
    "\n",
    "    model_3.summary()\n",
    "\n",
    "    # Set optimizer\n",
    "    opt = keras.optimizers.SGD(learning_rate=0.01)\n",
    "\n",
    "    # Compile model\n",
    "    model_3.compile(optimizer=opt, loss=tf.keras.losses.SparseCategoricalCrossentropy(from_logits = True),metrics=['accuracy'])\n",
    "\n",
    "    st = time.time()\n",
    "\n",
    "    history = model_3.fit(x_train, y_train, batch_size=256, epochs=num_epochs, validation_split=0.2)\n",
    "\n",
    "    end = time.time()\n",
    "\n",
    "    # Plot the diagrams\n",
    "    loss_acc_plot(history)\n",
    "\n",
    "    print('Training time:', end-st, 'seconds')"
   ]
  },
  {
   "cell_type": "markdown",
   "metadata": {},
   "source": [
    "## 4th Model with L1 regularization"
   ]
  },
  {
   "cell_type": "code",
   "execution_count": 11,
   "metadata": {},
   "outputs": [
    {
     "name": "stdout",
     "output_type": "stream",
     "text": [
      "Model: \"sequential_1\"\n",
      "_________________________________________________________________\n",
      " Layer (type)                Output Shape              Param #   \n",
      "=================================================================\n",
      " flatten_1 (Flatten)         (None, 784)               0         \n",
      "                                                                 \n",
      " dense_3 (Dense)             (None, 128)               100480    \n",
      "                                                                 \n",
      " dropout (Dropout)           (None, 128)               0         \n",
      "                                                                 \n",
      " dense_4 (Dense)             (None, 256)               33024     \n",
      "                                                                 \n",
      " dropout_1 (Dropout)         (None, 256)               0         \n",
      "                                                                 \n",
      " dense_5 (Dense)             (None, 10)                2570      \n",
      "                                                                 \n",
      "=================================================================\n",
      "Total params: 136,074\n",
      "Trainable params: 136,074\n",
      "Non-trainable params: 0\n",
      "_________________________________________________________________\n"
     ]
    }
   ],
   "source": [
    "# Set weight initializer\n",
    "initial = keras.initializers.RandomNormal(mean=10)\n",
    "\n",
    "# Set regularizer\n",
    "reg = keras.regularizers.L1(0.01)\n",
    "\n",
    "model_4 = keras.Sequential([\n",
    "    keras.layers.Flatten(input_shape=(28 * 28, )),\n",
    "    keras.layers.Dense(n_hidden_1, activation='relu', kernel_initializer=initial, kernel_regularizer=reg),\n",
    "    keras.layers.Dropout(0.3),\n",
    "    keras.layers.Dense(n_hidden_2, activation='relu', kernel_initializer=initial, kernel_regularizer=reg),\n",
    "    keras.layers.Dropout(0.3),\n",
    "    keras.layers.Dense(10, kernel_initializer=initial, kernel_regularizer=reg)\n",
    "])\n",
    "\n",
    "model_4.summary()"
   ]
  },
  {
   "cell_type": "code",
   "execution_count": 12,
   "metadata": {},
   "outputs": [
    {
     "name": "stdout",
     "output_type": "stream",
     "text": [
      "Epoch 1/100\n",
      "188/188 [==============================] - 3s 10ms/step - loss: 3730422272.0000 - accuracy: 0.1138 - val_loss: 14058602.0000 - val_accuracy: 0.1060\n",
      "Epoch 2/100\n",
      "188/188 [==============================] - 1s 7ms/step - loss: 14058594.0000 - accuracy: 0.1140 - val_loss: 14058596.0000 - val_accuracy: 0.1060\n",
      "Epoch 3/100\n",
      "188/188 [==============================] - 1s 7ms/step - loss: 14058581.0000 - accuracy: 0.1140 - val_loss: 14058581.0000 - val_accuracy: 0.1060\n",
      "Epoch 4/100\n",
      "188/188 [==============================] - 1s 7ms/step - loss: 14058579.0000 - accuracy: 0.1140 - val_loss: 14058567.0000 - val_accuracy: 0.1060\n",
      "Epoch 5/100\n",
      "188/188 [==============================] - 1s 7ms/step - loss: 14058575.0000 - accuracy: 0.1140 - val_loss: 14058562.0000 - val_accuracy: 0.1060\n",
      "Epoch 6/100\n",
      "188/188 [==============================] - 1s 8ms/step - loss: 14058522.0000 - accuracy: 0.1140 - val_loss: 14058555.0000 - val_accuracy: 0.1060\n",
      "Epoch 7/100\n",
      "188/188 [==============================] - 1s 7ms/step - loss: 14058521.0000 - accuracy: 0.1140 - val_loss: 14058540.0000 - val_accuracy: 0.1060\n",
      "Epoch 8/100\n",
      "188/188 [==============================] - 1s 8ms/step - loss: 14058518.0000 - accuracy: 0.1140 - val_loss: 14058523.0000 - val_accuracy: 0.1060\n",
      "Epoch 9/100\n",
      "188/188 [==============================] - 1s 7ms/step - loss: 14058503.0000 - accuracy: 0.1140 - val_loss: 14058516.0000 - val_accuracy: 0.1060\n",
      "Epoch 10/100\n",
      "188/188 [==============================] - 1s 7ms/step - loss: 14058501.0000 - accuracy: 0.1140 - val_loss: 14058503.0000 - val_accuracy: 0.1060\n",
      "Epoch 11/100\n",
      "188/188 [==============================] - 1s 8ms/step - loss: 14058499.0000 - accuracy: 0.1140 - val_loss: 14058497.0000 - val_accuracy: 0.1060\n",
      "Epoch 12/100\n",
      "188/188 [==============================] - 1s 7ms/step - loss: 14058496.0000 - accuracy: 0.1140 - val_loss: 14058491.0000 - val_accuracy: 0.1060\n",
      "Epoch 13/100\n",
      "188/188 [==============================] - 1s 7ms/step - loss: 14058495.0000 - accuracy: 0.1140 - val_loss: 14058476.0000 - val_accuracy: 0.1060\n",
      "Epoch 14/100\n",
      "188/188 [==============================] - 1s 7ms/step - loss: 14058491.0000 - accuracy: 0.1140 - val_loss: 14058470.0000 - val_accuracy: 0.1060\n",
      "Epoch 15/100\n",
      "188/188 [==============================] - 1s 8ms/step - loss: 14058477.0000 - accuracy: 0.1140 - val_loss: 14058452.0000 - val_accuracy: 0.1060\n",
      "Epoch 16/100\n",
      "188/188 [==============================] - 1s 7ms/step - loss: 14058474.0000 - accuracy: 0.1140 - val_loss: 14058439.0000 - val_accuracy: 0.1060\n",
      "Epoch 17/100\n",
      "188/188 [==============================] - 2s 8ms/step - loss: 14058471.0000 - accuracy: 0.1140 - val_loss: 14058433.0000 - val_accuracy: 0.1060\n",
      "Epoch 18/100\n",
      "188/188 [==============================] - 1s 8ms/step - loss: 14058418.0000 - accuracy: 0.1140 - val_loss: 14058429.0000 - val_accuracy: 0.1060\n",
      "Epoch 19/100\n",
      "188/188 [==============================] - 1s 8ms/step - loss: 14058417.0000 - accuracy: 0.1140 - val_loss: 14058411.0000 - val_accuracy: 0.1060\n",
      "Epoch 20/100\n",
      "188/188 [==============================] - 1s 8ms/step - loss: 14058413.0000 - accuracy: 0.1140 - val_loss: 14058406.0000 - val_accuracy: 0.1060\n",
      "Epoch 21/100\n",
      "188/188 [==============================] - 1s 7ms/step - loss: 14058399.0000 - accuracy: 0.1140 - val_loss: 14058394.0000 - val_accuracy: 0.1060\n",
      "Epoch 22/100\n",
      "188/188 [==============================] - 1s 8ms/step - loss: 14058398.0000 - accuracy: 0.1140 - val_loss: 14058374.0000 - val_accuracy: 0.1060\n",
      "Epoch 23/100\n",
      "188/188 [==============================] - 1s 7ms/step - loss: 14058394.0000 - accuracy: 0.1140 - val_loss: 14058369.0000 - val_accuracy: 0.1060\n",
      "Epoch 24/100\n",
      "188/188 [==============================] - 1s 7ms/step - loss: 14058344.0000 - accuracy: 0.1140 - val_loss: 14058366.0000 - val_accuracy: 0.1060\n",
      "Epoch 25/100\n",
      "188/188 [==============================] - 1s 7ms/step - loss: 14058344.0000 - accuracy: 0.1140 - val_loss: 14058347.0000 - val_accuracy: 0.1060\n",
      "Epoch 26/100\n",
      "188/188 [==============================] - 1s 8ms/step - loss: 14058339.0000 - accuracy: 0.1140 - val_loss: 14058342.0000 - val_accuracy: 0.1060\n",
      "Epoch 27/100\n",
      "188/188 [==============================] - 1s 7ms/step - loss: 14058332.0000 - accuracy: 0.1140 - val_loss: 14058329.0000 - val_accuracy: 0.1060\n",
      "Epoch 28/100\n",
      "188/188 [==============================] - 2s 8ms/step - loss: 14058325.0000 - accuracy: 0.1140 - val_loss: 14058312.0000 - val_accuracy: 0.1060\n",
      "Epoch 29/100\n",
      "188/188 [==============================] - 2s 9ms/step - loss: 14058320.0000 - accuracy: 0.1140 - val_loss: 14058305.0000 - val_accuracy: 0.1060\n",
      "Epoch 30/100\n",
      "188/188 [==============================] - 1s 8ms/step - loss: 14058268.0000 - accuracy: 0.1140 - val_loss: 14058302.0000 - val_accuracy: 0.1060\n",
      "Epoch 31/100\n",
      "188/188 [==============================] - 1s 8ms/step - loss: 14058267.0000 - accuracy: 0.1140 - val_loss: 14058283.0000 - val_accuracy: 0.1060\n",
      "Epoch 32/100\n",
      "188/188 [==============================] - 1s 7ms/step - loss: 14058263.0000 - accuracy: 0.1140 - val_loss: 14058278.0000 - val_accuracy: 0.1060\n",
      "Epoch 33/100\n",
      "188/188 [==============================] - 1s 7ms/step - loss: 14058256.0000 - accuracy: 0.1140 - val_loss: 14058265.0000 - val_accuracy: 0.1060\n",
      "Epoch 34/100\n",
      "188/188 [==============================] - 1s 7ms/step - loss: 14058248.0000 - accuracy: 0.1140 - val_loss: 14058248.0000 - val_accuracy: 0.1060\n",
      "Epoch 35/100\n",
      "188/188 [==============================] - 1s 8ms/step - loss: 14058243.0000 - accuracy: 0.1140 - val_loss: 14058242.0000 - val_accuracy: 0.1060\n",
      "Epoch 36/100\n",
      "188/188 [==============================] - 2s 10ms/step - loss: 14058239.0000 - accuracy: 0.1140 - val_loss: 14058238.0000 - val_accuracy: 0.1060\n",
      "Epoch 37/100\n",
      "188/188 [==============================] - 2s 9ms/step - loss: 14058238.0000 - accuracy: 0.1140 - val_loss: 14058232.0000 - val_accuracy: 0.1060\n",
      "Epoch 38/100\n",
      "188/188 [==============================] - 2s 8ms/step - loss: 14058234.0000 - accuracy: 0.1140 - val_loss: 14058215.0000 - val_accuracy: 0.1060\n",
      "Epoch 39/100\n",
      "188/188 [==============================] - 1s 8ms/step - loss: 14058232.0000 - accuracy: 0.1140 - val_loss: 14058201.0000 - val_accuracy: 0.1060\n",
      "Epoch 40/100\n",
      "188/188 [==============================] - 1s 8ms/step - loss: 14058219.0000 - accuracy: 0.1140 - val_loss: 14058197.0000 - val_accuracy: 0.1060\n",
      "Epoch 41/100\n",
      "188/188 [==============================] - 1s 8ms/step - loss: 14058215.0000 - accuracy: 0.1140 - val_loss: 14058178.0000 - val_accuracy: 0.1060\n",
      "Epoch 42/100\n",
      "188/188 [==============================] - 1s 8ms/step - loss: 14058185.0000 - accuracy: 0.1140 - val_loss: 14058175.0000 - val_accuracy: 0.1060\n",
      "Epoch 43/100\n",
      "188/188 [==============================] - 1s 7ms/step - loss: 14058161.0000 - accuracy: 0.1140 - val_loss: 14058168.0000 - val_accuracy: 0.1060\n",
      "Epoch 44/100\n",
      "188/188 [==============================] - 1s 7ms/step - loss: 14058156.0000 - accuracy: 0.1140 - val_loss: 14058151.0000 - val_accuracy: 0.1060\n",
      "Epoch 45/100\n",
      "188/188 [==============================] - 1s 7ms/step - loss: 14058155.0000 - accuracy: 0.1140 - val_loss: 14058138.0000 - val_accuracy: 0.1060\n",
      "Epoch 46/100\n",
      "188/188 [==============================] - 2s 8ms/step - loss: 14058142.0000 - accuracy: 0.1140 - val_loss: 14058133.0000 - val_accuracy: 0.1060\n",
      "Epoch 47/100\n",
      "188/188 [==============================] - 2s 8ms/step - loss: 14058137.0000 - accuracy: 0.1140 - val_loss: 14058114.0000 - val_accuracy: 0.1060\n",
      "Epoch 48/100\n",
      "188/188 [==============================] - 2s 8ms/step - loss: 14058089.0000 - accuracy: 0.1140 - val_loss: 14058111.0000 - val_accuracy: 0.1060\n",
      "Epoch 49/100\n",
      "188/188 [==============================] - 1s 8ms/step - loss: 14058088.0000 - accuracy: 0.1140 - val_loss: 14058106.0000 - val_accuracy: 0.1060\n",
      "Epoch 50/100\n",
      "188/188 [==============================] - 1s 7ms/step - loss: 14058086.0000 - accuracy: 0.1140 - val_loss: 14058086.0000 - val_accuracy: 0.1060\n",
      "Epoch 51/100\n",
      "188/188 [==============================] - 1s 7ms/step - loss: 14058082.0000 - accuracy: 0.1140 - val_loss: 14058074.0000 - val_accuracy: 0.1060\n",
      "Epoch 52/100\n",
      "188/188 [==============================] - 1s 7ms/step - loss: 14058069.0000 - accuracy: 0.1140 - val_loss: 14058069.0000 - val_accuracy: 0.1060\n",
      "Epoch 53/100\n",
      "188/188 [==============================] - 1s 8ms/step - loss: 14058067.0000 - accuracy: 0.1140 - val_loss: 14058050.0000 - val_accuracy: 0.1060\n",
      "Epoch 54/100\n",
      "188/188 [==============================] - 1s 8ms/step - loss: 14058054.0000 - accuracy: 0.1140 - val_loss: 14058047.0000 - val_accuracy: 0.1060\n",
      "Epoch 55/100\n",
      "188/188 [==============================] - 2s 8ms/step - loss: 14058010.0000 - accuracy: 0.1140 - val_loss: 14058041.0000 - val_accuracy: 0.1060\n",
      "Epoch 56/100\n",
      "188/188 [==============================] - 1s 8ms/step - loss: 14058009.0000 - accuracy: 0.1140 - val_loss: 14058028.0000 - val_accuracy: 0.1060\n",
      "Epoch 57/100\n",
      "188/188 [==============================] - 1s 8ms/step - loss: 14058004.0000 - accuracy: 0.1140 - val_loss: 14058010.0000 - val_accuracy: 0.1060\n",
      "Epoch 58/100\n",
      "188/188 [==============================] - 2s 8ms/step - loss: 14057991.0000 - accuracy: 0.1140 - val_loss: 14058004.0000 - val_accuracy: 0.1060\n",
      "Epoch 59/100\n",
      "188/188 [==============================] - 1s 8ms/step - loss: 14057989.0000 - accuracy: 0.1140 - val_loss: 14057989.0000 - val_accuracy: 0.1060\n",
      "Epoch 60/100\n",
      "188/188 [==============================] - 2s 9ms/step - loss: 14057984.0000 - accuracy: 0.1140 - val_loss: 14057983.0000 - val_accuracy: 0.1060\n",
      "Epoch 61/100\n",
      "188/188 [==============================] - 1s 7ms/step - loss: 14057983.0000 - accuracy: 0.1140 - val_loss: 14057977.0000 - val_accuracy: 0.1060\n",
      "Epoch 62/100\n",
      "188/188 [==============================] - 1s 7ms/step - loss: 14057981.0000 - accuracy: 0.1140 - val_loss: 14057964.0000 - val_accuracy: 0.1060\n",
      "Epoch 63/100\n",
      "188/188 [==============================] - 1s 7ms/step - loss: 14057979.0000 - accuracy: 0.1140 - val_loss: 14057947.0000 - val_accuracy: 0.1060\n",
      "Epoch 64/100\n",
      "188/188 [==============================] - 1s 7ms/step - loss: 14057964.0000 - accuracy: 0.1140 - val_loss: 14057940.0000 - val_accuracy: 0.1060\n",
      "Epoch 65/100\n",
      "188/188 [==============================] - 1s 7ms/step - loss: 14057962.0000 - accuracy: 0.1140 - val_loss: 14057925.0000 - val_accuracy: 0.1060\n",
      "Epoch 66/100\n",
      "188/188 [==============================] - 1s 7ms/step - loss: 14057959.0000 - accuracy: 0.1140 - val_loss: 14057920.0000 - val_accuracy: 0.1060\n",
      "Epoch 67/100\n",
      "188/188 [==============================] - 1s 7ms/step - loss: 14057906.0000 - accuracy: 0.1140 - val_loss: 14057914.0000 - val_accuracy: 0.1060\n",
      "Epoch 68/100\n",
      "188/188 [==============================] - 1s 7ms/step - loss: 14057905.0000 - accuracy: 0.1140 - val_loss: 14057899.0000 - val_accuracy: 0.1060\n",
      "Epoch 69/100\n",
      "188/188 [==============================] - 1s 7ms/step - loss: 14057901.0000 - accuracy: 0.1140 - val_loss: 14057884.0000 - val_accuracy: 0.1060\n",
      "Epoch 70/100\n",
      "188/188 [==============================] - 1s 4ms/step - loss: 14057887.0000 - accuracy: 0.1140 - val_loss: 14057878.0000 - val_accuracy: 0.1060\n",
      "Epoch 71/100\n",
      "188/188 [==============================] - 1s 3ms/step - loss: 14057886.0000 - accuracy: 0.1140 - val_loss: 14057861.0000 - val_accuracy: 0.1060\n",
      "Epoch 72/100\n",
      "188/188 [==============================] - 1s 3ms/step - loss: 14057880.0000 - accuracy: 0.1140 - val_loss: 14057856.0000 - val_accuracy: 0.1060\n",
      "Epoch 73/100\n",
      "188/188 [==============================] - 1s 3ms/step - loss: 14057832.0000 - accuracy: 0.1140 - val_loss: 14057850.0000 - val_accuracy: 0.1060\n",
      "Epoch 74/100\n",
      "188/188 [==============================] - 1s 3ms/step - loss: 14057831.0000 - accuracy: 0.1140 - val_loss: 14057835.0000 - val_accuracy: 0.1060\n",
      "Epoch 75/100\n",
      "188/188 [==============================] - 1s 7ms/step - loss: 14057827.0000 - accuracy: 0.1140 - val_loss: 14057830.0000 - val_accuracy: 0.1060\n",
      "Epoch 76/100\n",
      "188/188 [==============================] - 1s 3ms/step - loss: 14057813.0000 - accuracy: 0.1140 - val_loss: 14057813.0000 - val_accuracy: 0.1060\n",
      "Epoch 77/100\n",
      "188/188 [==============================] - 1s 3ms/step - loss: 14057812.0000 - accuracy: 0.1140 - val_loss: 14057800.0000 - val_accuracy: 0.1060\n",
      "Epoch 78/100\n",
      "188/188 [==============================] - 1s 3ms/step - loss: 14057808.0000 - accuracy: 0.1140 - val_loss: 14057793.0000 - val_accuracy: 0.1060\n",
      "Epoch 79/100\n",
      "188/188 [==============================] - 1s 3ms/step - loss: 14057755.0000 - accuracy: 0.1140 - val_loss: 14057789.0000 - val_accuracy: 0.1060\n",
      "Epoch 80/100\n",
      "188/188 [==============================] - 1s 3ms/step - loss: 14057753.0000 - accuracy: 0.1140 - val_loss: 14057771.0000 - val_accuracy: 0.1060\n",
      "Epoch 81/100\n",
      "188/188 [==============================] - 1s 3ms/step - loss: 14057751.0000 - accuracy: 0.1140 - val_loss: 14057766.0000 - val_accuracy: 0.1060\n",
      "Epoch 82/100\n",
      "188/188 [==============================] - 1s 3ms/step - loss: 14057736.0000 - accuracy: 0.1140 - val_loss: 14057753.0000 - val_accuracy: 0.1060\n",
      "Epoch 83/100\n",
      "188/188 [==============================] - 0s 3ms/step - loss: 14057734.0000 - accuracy: 0.1140 - val_loss: 14057736.0000 - val_accuracy: 0.1060\n",
      "Epoch 84/100\n",
      "188/188 [==============================] - 1s 3ms/step - loss: 14057731.0000 - accuracy: 0.1140 - val_loss: 14057730.0000 - val_accuracy: 0.1060\n",
      "Epoch 85/100\n",
      "188/188 [==============================] - 1s 3ms/step - loss: 14057727.0000 - accuracy: 0.1140 - val_loss: 14057725.0000 - val_accuracy: 0.1060\n",
      "Epoch 86/100\n",
      "188/188 [==============================] - 0s 3ms/step - loss: 14057726.0000 - accuracy: 0.1140 - val_loss: 14057707.0000 - val_accuracy: 0.1060\n",
      "Epoch 87/100\n",
      "188/188 [==============================] - 1s 3ms/step - loss: 14057722.0000 - accuracy: 0.1140 - val_loss: 14057701.0000 - val_accuracy: 0.1060\n",
      "Epoch 88/100\n",
      "188/188 [==============================] - 1s 3ms/step - loss: 14057712.0000 - accuracy: 0.1140 - val_loss: 14057689.0000 - val_accuracy: 0.1060\n",
      "Epoch 89/100\n",
      "188/188 [==============================] - 1s 3ms/step - loss: 14057707.0000 - accuracy: 0.1140 - val_loss: 14057671.0000 - val_accuracy: 0.1060\n",
      "Epoch 90/100\n",
      "188/188 [==============================] - 1s 4ms/step - loss: 14057703.0000 - accuracy: 0.1140 - val_loss: 14057666.0000 - val_accuracy: 0.1060\n",
      "Epoch 91/100\n",
      "188/188 [==============================] - 1s 4ms/step - loss: 14057656.0000 - accuracy: 0.1140 - val_loss: 14057663.0000 - val_accuracy: 0.1060\n",
      "Epoch 92/100\n",
      "188/188 [==============================] - 1s 4ms/step - loss: 14057649.0000 - accuracy: 0.1140 - val_loss: 14057643.0000 - val_accuracy: 0.1060\n",
      "Epoch 93/100\n",
      "188/188 [==============================] - 1s 4ms/step - loss: 14057644.0000 - accuracy: 0.1140 - val_loss: 14057639.0000 - val_accuracy: 0.1060\n",
      "Epoch 94/100\n",
      "188/188 [==============================] - 1s 3ms/step - loss: 14057643.0000 - accuracy: 0.1140 - val_loss: 14057625.0000 - val_accuracy: 0.1060\n",
      "Epoch 95/100\n",
      "188/188 [==============================] - 1s 3ms/step - loss: 14057629.0000 - accuracy: 0.1140 - val_loss: 14057607.0000 - val_accuracy: 0.1060\n",
      "Epoch 96/100\n",
      "188/188 [==============================] - 1s 4ms/step - loss: 14057625.0000 - accuracy: 0.1140 - val_loss: 14057602.0000 - val_accuracy: 0.1060\n",
      "Epoch 97/100\n",
      "188/188 [==============================] - 1s 3ms/step - loss: 14057577.0000 - accuracy: 0.1140 - val_loss: 14057599.0000 - val_accuracy: 0.1060\n",
      "Epoch 98/100\n",
      "188/188 [==============================] - 1s 4ms/step - loss: 14057576.0000 - accuracy: 0.1140 - val_loss: 14057594.0000 - val_accuracy: 0.1060\n",
      "Epoch 99/100\n",
      "188/188 [==============================] - 1s 3ms/step - loss: 14057572.0000 - accuracy: 0.1140 - val_loss: 14057574.0000 - val_accuracy: 0.1060\n",
      "Epoch 100/100\n",
      "188/188 [==============================] - 1s 3ms/step - loss: 14057570.0000 - accuracy: 0.1140 - val_loss: 14057562.0000 - val_accuracy: 0.1060\n"
     ]
    },
    {
     "data": {
      "image/png": "[encoded data removed]",
      "text/plain": [
       "<Figure size 640x480 with 1 Axes>"
      ]
     },
     "metadata": {},
     "output_type": "display_data"
    },
    {
     "data": {
      "image/png": "[encoded data removed]",
      "text/plain": [
       "<Figure size 640x480 with 1 Axes>"
      ]
     },
     "metadata": {},
     "output_type": "display_data"
    },
    {
     "name": "stdout",
     "output_type": "stream",
     "text": [
      "Training time: 119.73092317581177 seconds\n"
     ]
    }
   ],
   "source": [
    "# Set optimizer\n",
    "opt = keras.optimizers.SGD(learning_rate=0.01)\n",
    "\n",
    "# Compile model\n",
    "model_4.compile(optimizer=opt, loss=tf.keras.losses.SparseCategoricalCrossentropy(from_logits = True),metrics=['accuracy'])\n",
    "\n",
    "st = time.time()\n",
    "\n",
    "history = model_4.fit(x_train, y_train, batch_size=256, epochs=num_epochs, validation_split=0.2)\n",
    "\n",
    "end = time.time()\n",
    "\n",
    "# Plot the diagrams\n",
    "loss_acc_plot(history)\n",
    "\n",
    "print('Training time:', end-st, 'seconds')"
   ]
  }
 ],
 "metadata": {
  "kernelspec": {
   "display_name": "Python 3.10.6 ('.venv': poetry)",
   "language": "python",
   "name": "python3"
  },
  "language_info": {
   "codemirror_mode": {
    "name": "ipython",
    "version": 3
   },
   "file_extension": ".py",
   "mimetype": "text/x-python",
   "name": "python",
   "nbconvert_exporter": "python",
   "pygments_lexer": "ipython3",
   "version": "3.10.6"
  },
  "orig_nbformat": 4,
  "vscode": {
   "interpreter": {
    "hash": "e1e82cf3c4d59a28b934654c6400e813a05dd267264b20e64ea54193e71b9271"
   }
  }
 },
 "nbformat": 4,
 "nbformat_minor": 2
}
